{
 "cells": [
  {
   "cell_type": "markdown",
   "metadata": {},
   "source": [
    "### Heroes Of Pymoli Data Analysis\n",
    "* Of the 1163 active players, the vast majority are male (84%). There also exists, a smaller, but notable proportion of female players (14%).\n",
    "\n",
    "* Our peak age demographic falls between 20-24 (44.8%) with secondary groups falling between 15-19 (18.60%) and 25-29 (13.4%).  \n",
    "-----"
   ]
  },
  {
   "cell_type": "markdown",
   "metadata": {},
   "source": [
    "### Note\n",
    "* Instructions have been included for each segment. You do not have to follow them exactly, but they are included to help you think through the steps."
   ]
  },
  {
   "cell_type": "code",
   "execution_count": 1,
   "metadata": {},
   "outputs": [],
   "source": [
    "# Dependencies and Setup\n",
    "import pandas as pd\n",
    "import numpy as np\n",
    "\n",
    "# File to Load (Remember to Change These)\n",
    "file_to_load = \"Resources/purchase_data.csv\"\n",
    "\n",
    "# Read Purchasing File and store into Pandas data frame\n",
    "purchase_data = pd.read_csv(file_to_load)"
   ]
  },
  {
   "cell_type": "code",
   "execution_count": 2,
   "metadata": {},
   "outputs": [
    {
     "data": {
      "text/html": [
       "<div>\n",
       "<style scoped>\n",
       "    .dataframe tbody tr th:only-of-type {\n",
       "        vertical-align: middle;\n",
       "    }\n",
       "\n",
       "    .dataframe tbody tr th {\n",
       "        vertical-align: top;\n",
       "    }\n",
       "\n",
       "    .dataframe thead th {\n",
       "        text-align: right;\n",
       "    }\n",
       "</style>\n",
       "<table border=\"1\" class=\"dataframe\">\n",
       "  <thead>\n",
       "    <tr style=\"text-align: right;\">\n",
       "      <th></th>\n",
       "      <th>Purchase ID</th>\n",
       "      <th>SN</th>\n",
       "      <th>Age</th>\n",
       "      <th>Gender</th>\n",
       "      <th>Item ID</th>\n",
       "      <th>Item Name</th>\n",
       "      <th>Price</th>\n",
       "    </tr>\n",
       "  </thead>\n",
       "  <tbody>\n",
       "    <tr>\n",
       "      <th>0</th>\n",
       "      <td>0</td>\n",
       "      <td>Lisim78</td>\n",
       "      <td>20</td>\n",
       "      <td>Male</td>\n",
       "      <td>108</td>\n",
       "      <td>Extraction, Quickblade Of Trembling Hands</td>\n",
       "      <td>3.53</td>\n",
       "    </tr>\n",
       "    <tr>\n",
       "      <th>1</th>\n",
       "      <td>1</td>\n",
       "      <td>Lisovynya38</td>\n",
       "      <td>40</td>\n",
       "      <td>Male</td>\n",
       "      <td>143</td>\n",
       "      <td>Frenzied Scimitar</td>\n",
       "      <td>1.56</td>\n",
       "    </tr>\n",
       "    <tr>\n",
       "      <th>2</th>\n",
       "      <td>2</td>\n",
       "      <td>Ithergue48</td>\n",
       "      <td>24</td>\n",
       "      <td>Male</td>\n",
       "      <td>92</td>\n",
       "      <td>Final Critic</td>\n",
       "      <td>4.88</td>\n",
       "    </tr>\n",
       "    <tr>\n",
       "      <th>3</th>\n",
       "      <td>3</td>\n",
       "      <td>Chamassasya86</td>\n",
       "      <td>24</td>\n",
       "      <td>Male</td>\n",
       "      <td>100</td>\n",
       "      <td>Blindscythe</td>\n",
       "      <td>3.27</td>\n",
       "    </tr>\n",
       "    <tr>\n",
       "      <th>4</th>\n",
       "      <td>4</td>\n",
       "      <td>Iskosia90</td>\n",
       "      <td>23</td>\n",
       "      <td>Male</td>\n",
       "      <td>131</td>\n",
       "      <td>Fury</td>\n",
       "      <td>1.44</td>\n",
       "    </tr>\n",
       "  </tbody>\n",
       "</table>\n",
       "</div>"
      ],
      "text/plain": [
       "   Purchase ID             SN  Age Gender  Item ID  \\\n",
       "0            0        Lisim78   20   Male      108   \n",
       "1            1    Lisovynya38   40   Male      143   \n",
       "2            2     Ithergue48   24   Male       92   \n",
       "3            3  Chamassasya86   24   Male      100   \n",
       "4            4      Iskosia90   23   Male      131   \n",
       "\n",
       "                                   Item Name  Price  \n",
       "0  Extraction, Quickblade Of Trembling Hands   3.53  \n",
       "1                          Frenzied Scimitar   1.56  \n",
       "2                               Final Critic   4.88  \n",
       "3                                Blindscythe   3.27  \n",
       "4                                       Fury   1.44  "
      ]
     },
     "execution_count": 2,
     "metadata": {},
     "output_type": "execute_result"
    }
   ],
   "source": [
    "\n",
    "purchase_data.head()\n",
    "#purchase_data.dtypes"
   ]
  },
  {
   "cell_type": "markdown",
   "metadata": {},
   "source": [
    "## Player Count"
   ]
  },
  {
   "cell_type": "markdown",
   "metadata": {},
   "source": [
    "* Display the total number of players\n"
   ]
  },
  {
   "cell_type": "code",
   "execution_count": 3,
   "metadata": {},
   "outputs": [
    {
     "data": {
      "text/html": [
       "<div>\n",
       "<style scoped>\n",
       "    .dataframe tbody tr th:only-of-type {\n",
       "        vertical-align: middle;\n",
       "    }\n",
       "\n",
       "    .dataframe tbody tr th {\n",
       "        vertical-align: top;\n",
       "    }\n",
       "\n",
       "    .dataframe thead th {\n",
       "        text-align: right;\n",
       "    }\n",
       "</style>\n",
       "<table border=\"1\" class=\"dataframe\">\n",
       "  <thead>\n",
       "    <tr style=\"text-align: right;\">\n",
       "      <th></th>\n",
       "      <th>Total Players</th>\n",
       "    </tr>\n",
       "  </thead>\n",
       "  <tbody>\n",
       "    <tr>\n",
       "      <th>0</th>\n",
       "      <td>576</td>\n",
       "    </tr>\n",
       "  </tbody>\n",
       "</table>\n",
       "</div>"
      ],
      "text/plain": [
       "   Total Players\n",
       "0            576"
      ]
     },
     "execution_count": 3,
     "metadata": {},
     "output_type": "execute_result"
    }
   ],
   "source": [
    "#calculate number of players. https://www.geeksforgeeks.org/python-pandas-dataframe-nunique/\n",
    "total_players=purchase_data[\"SN\"].nunique()\n",
    "#display as df\n",
    "pd.DataFrame({'Total Players':[total_players]})"
   ]
  },
  {
   "cell_type": "markdown",
   "metadata": {},
   "source": [
    "## Purchasing Analysis (Total)"
   ]
  },
  {
   "cell_type": "markdown",
   "metadata": {},
   "source": [
    "* Run basic calculations to obtain number of unique items, average price, etc.\n",
    "\n",
    "\n",
    "* Create a summary data frame to hold the results\n",
    "\n",
    "\n",
    "* Optional: give the displayed data cleaner formatting\n",
    "\n",
    "\n",
    "* Display the summary data frame\n"
   ]
  },
  {
   "cell_type": "code",
   "execution_count": 4,
   "metadata": {
    "scrolled": true
   },
   "outputs": [
    {
     "data": {
      "text/html": [
       "<style  type=\"text/css\" >\n",
       "</style><table id=\"T_0c07d34a_9ec3_11e9_be39_34e12dcd57e3\" ><thead>    <tr>        <th class=\"blank level0\" ></th>        <th class=\"col_heading level0 col0\" >Number of Unique Items</th>        <th class=\"col_heading level0 col1\" >Average Price</th>        <th class=\"col_heading level0 col2\" >Number of Purchases</th>        <th class=\"col_heading level0 col3\" >Total Revenue</th>    </tr></thead><tbody>\n",
       "                <tr>\n",
       "                        <th id=\"T_0c07d34a_9ec3_11e9_be39_34e12dcd57e3level0_row0\" class=\"row_heading level0 row0\" >0</th>\n",
       "                        <td id=\"T_0c07d34a_9ec3_11e9_be39_34e12dcd57e3row0_col0\" class=\"data row0 col0\" >183</td>\n",
       "                        <td id=\"T_0c07d34a_9ec3_11e9_be39_34e12dcd57e3row0_col1\" class=\"data row0 col1\" >$3.05</td>\n",
       "                        <td id=\"T_0c07d34a_9ec3_11e9_be39_34e12dcd57e3row0_col2\" class=\"data row0 col2\" >780</td>\n",
       "                        <td id=\"T_0c07d34a_9ec3_11e9_be39_34e12dcd57e3row0_col3\" class=\"data row0 col3\" >$2,379.77</td>\n",
       "            </tr>\n",
       "    </tbody></table>"
      ],
      "text/plain": [
       "<pandas.io.formats.style.Styler at 0x1d496a21978>"
      ]
     },
     "execution_count": 4,
     "metadata": {},
     "output_type": "execute_result"
    }
   ],
   "source": [
    "#calculations for purchase analysis\n",
    "unique_items= purchase_data[\"Item ID\"].nunique()\n",
    "average_price= purchase_data[\"Price\"].mean()\n",
    "purchase_quantity= purchase_data[\"Purchase ID\"].count()\n",
    "total_revenue= purchase_data[\"Price\"].sum()\n",
    "PA_df=pd.DataFrame({'Number of Unique Items':[unique_items],\n",
    "              'Average Price':[average_price],\n",
    "              'Number of Purchases':[purchase_quantity],\n",
    "              'Total Revenue':[total_revenue]})\n",
    "PA_df\n",
    "#currency format\n",
    "(PA_df.style.format({\"Average Price\": \"${0:,.2f}\",\"Total Revenue\":\"${0:,.2f}\"}))"
   ]
  },
  {
   "cell_type": "markdown",
   "metadata": {},
   "source": [
    "## Gender Demographics"
   ]
  },
  {
   "cell_type": "markdown",
   "metadata": {},
   "source": [
    "* Percentage and Count of Male Players\n",
    "\n",
    "\n",
    "* Percentage and Count of Female Players\n",
    "\n",
    "\n",
    "* Percentage and Count of Other / Non-Disclosed\n",
    "\n",
    "\n"
   ]
  },
  {
   "cell_type": "code",
   "execution_count": 5,
   "metadata": {},
   "outputs": [
    {
     "data": {
      "text/html": [
       "<div>\n",
       "<style scoped>\n",
       "    .dataframe tbody tr th:only-of-type {\n",
       "        vertical-align: middle;\n",
       "    }\n",
       "\n",
       "    .dataframe tbody tr th {\n",
       "        vertical-align: top;\n",
       "    }\n",
       "\n",
       "    .dataframe thead th {\n",
       "        text-align: right;\n",
       "    }\n",
       "</style>\n",
       "<table border=\"1\" class=\"dataframe\">\n",
       "  <thead>\n",
       "    <tr style=\"text-align: right;\">\n",
       "      <th></th>\n",
       "      <th>Gender</th>\n",
       "      <th>SN</th>\n",
       "      <th>Age</th>\n",
       "    </tr>\n",
       "  </thead>\n",
       "  <tbody>\n",
       "    <tr>\n",
       "      <th>0</th>\n",
       "      <td>Male</td>\n",
       "      <td>Lisim78</td>\n",
       "      <td>20</td>\n",
       "    </tr>\n",
       "    <tr>\n",
       "      <th>1</th>\n",
       "      <td>Male</td>\n",
       "      <td>Lisovynya38</td>\n",
       "      <td>40</td>\n",
       "    </tr>\n",
       "    <tr>\n",
       "      <th>2</th>\n",
       "      <td>Male</td>\n",
       "      <td>Ithergue48</td>\n",
       "      <td>24</td>\n",
       "    </tr>\n",
       "    <tr>\n",
       "      <th>3</th>\n",
       "      <td>Male</td>\n",
       "      <td>Chamassasya86</td>\n",
       "      <td>24</td>\n",
       "    </tr>\n",
       "    <tr>\n",
       "      <th>4</th>\n",
       "      <td>Male</td>\n",
       "      <td>Iskosia90</td>\n",
       "      <td>23</td>\n",
       "    </tr>\n",
       "  </tbody>\n",
       "</table>\n",
       "</div>"
      ],
      "text/plain": [
       "  Gender             SN  Age\n",
       "0   Male        Lisim78   20\n",
       "1   Male    Lisovynya38   40\n",
       "2   Male     Ithergue48   24\n",
       "3   Male  Chamassasya86   24\n",
       "4   Male      Iskosia90   23"
      ]
     },
     "execution_count": 5,
     "metadata": {},
     "output_type": "execute_result"
    }
   ],
   "source": [
    "#New df with demographic info\n",
    "gender_table=purchase_data[[\"Gender\",\"SN\",\"Age\"]]\n",
    "gender_table.head()"
   ]
  },
  {
   "cell_type": "code",
   "execution_count": 6,
   "metadata": {},
   "outputs": [
    {
     "data": {
      "text/html": [
       "<div>\n",
       "<style scoped>\n",
       "    .dataframe tbody tr th:only-of-type {\n",
       "        vertical-align: middle;\n",
       "    }\n",
       "\n",
       "    .dataframe tbody tr th {\n",
       "        vertical-align: top;\n",
       "    }\n",
       "\n",
       "    .dataframe thead th {\n",
       "        text-align: right;\n",
       "    }\n",
       "</style>\n",
       "<table border=\"1\" class=\"dataframe\">\n",
       "  <thead>\n",
       "    <tr style=\"text-align: right;\">\n",
       "      <th></th>\n",
       "      <th>Total Count</th>\n",
       "      <th>Percentage of Players</th>\n",
       "    </tr>\n",
       "    <tr>\n",
       "      <th>Gender</th>\n",
       "      <th></th>\n",
       "      <th></th>\n",
       "    </tr>\n",
       "  </thead>\n",
       "  <tbody>\n",
       "    <tr>\n",
       "      <th>Male</th>\n",
       "      <td>484</td>\n",
       "      <td>84.03</td>\n",
       "    </tr>\n",
       "    <tr>\n",
       "      <th>Female</th>\n",
       "      <td>81</td>\n",
       "      <td>14.06</td>\n",
       "    </tr>\n",
       "    <tr>\n",
       "      <th>Other / Non-Disclosed</th>\n",
       "      <td>11</td>\n",
       "      <td>1.91</td>\n",
       "    </tr>\n",
       "  </tbody>\n",
       "</table>\n",
       "</div>"
      ],
      "text/plain": [
       "                       Total Count  Percentage of Players\n",
       "Gender                                                   \n",
       "Male                           484                  84.03\n",
       "Female                          81                  14.06\n",
       "Other / Non-Disclosed           11                   1.91"
      ]
     },
     "execution_count": 6,
     "metadata": {},
     "output_type": "execute_result"
    }
   ],
   "source": [
    "#groupby gender and calculate the total count and percent of players by gender\n",
    "grouped_gender=gender_table.groupby([\"Gender\"])\n",
    "gender_total=grouped_gender[\"SN\"].nunique()\n",
    "gender_percentage=(gender_total/total_players*100).round(2)\n",
    "gender_demo_summary= pd.DataFrame({\"Total Count\":gender_total,'Percentage of Players':gender_percentage})\n",
    "gender_demo_summary=gender_demo_summary.sort_values(by = \"Total Count\", ascending=False)\n",
    "gender_demo_summary"
   ]
  },
  {
   "cell_type": "markdown",
   "metadata": {},
   "source": [
    "\n",
    "## Purchasing Analysis (Gender)"
   ]
  },
  {
   "cell_type": "markdown",
   "metadata": {},
   "source": [
    "* Run basic calculations to obtain purchase count, avg. purchase price, avg. purchase total per person etc. by gender\n",
    "\n",
    "\n",
    "\n",
    "\n",
    "* Create a summary data frame to hold the results\n",
    "\n",
    "\n",
    "* Optional: give the displayed data cleaner formatting\n",
    "\n",
    "\n",
    "* Display the summary data frame"
   ]
  },
  {
   "cell_type": "code",
   "execution_count": 7,
   "metadata": {},
   "outputs": [
    {
     "data": {
      "text/html": [
       "<div>\n",
       "<style scoped>\n",
       "    .dataframe tbody tr th:only-of-type {\n",
       "        vertical-align: middle;\n",
       "    }\n",
       "\n",
       "    .dataframe tbody tr th {\n",
       "        vertical-align: top;\n",
       "    }\n",
       "\n",
       "    .dataframe thead th {\n",
       "        text-align: right;\n",
       "    }\n",
       "</style>\n",
       "<table border=\"1\" class=\"dataframe\">\n",
       "  <thead>\n",
       "    <tr style=\"text-align: right;\">\n",
       "      <th></th>\n",
       "      <th>Gender</th>\n",
       "      <th>Purchase ID</th>\n",
       "      <th>Item ID</th>\n",
       "      <th>Item Name</th>\n",
       "      <th>Price</th>\n",
       "      <th>SN</th>\n",
       "    </tr>\n",
       "  </thead>\n",
       "  <tbody>\n",
       "    <tr>\n",
       "      <th>0</th>\n",
       "      <td>Male</td>\n",
       "      <td>0</td>\n",
       "      <td>108</td>\n",
       "      <td>Extraction, Quickblade Of Trembling Hands</td>\n",
       "      <td>3.53</td>\n",
       "      <td>Lisim78</td>\n",
       "    </tr>\n",
       "    <tr>\n",
       "      <th>1</th>\n",
       "      <td>Male</td>\n",
       "      <td>1</td>\n",
       "      <td>143</td>\n",
       "      <td>Frenzied Scimitar</td>\n",
       "      <td>1.56</td>\n",
       "      <td>Lisovynya38</td>\n",
       "    </tr>\n",
       "    <tr>\n",
       "      <th>2</th>\n",
       "      <td>Male</td>\n",
       "      <td>2</td>\n",
       "      <td>92</td>\n",
       "      <td>Final Critic</td>\n",
       "      <td>4.88</td>\n",
       "      <td>Ithergue48</td>\n",
       "    </tr>\n",
       "    <tr>\n",
       "      <th>3</th>\n",
       "      <td>Male</td>\n",
       "      <td>3</td>\n",
       "      <td>100</td>\n",
       "      <td>Blindscythe</td>\n",
       "      <td>3.27</td>\n",
       "      <td>Chamassasya86</td>\n",
       "    </tr>\n",
       "    <tr>\n",
       "      <th>4</th>\n",
       "      <td>Male</td>\n",
       "      <td>4</td>\n",
       "      <td>131</td>\n",
       "      <td>Fury</td>\n",
       "      <td>1.44</td>\n",
       "      <td>Iskosia90</td>\n",
       "    </tr>\n",
       "  </tbody>\n",
       "</table>\n",
       "</div>"
      ],
      "text/plain": [
       "  Gender  Purchase ID  Item ID                                  Item Name  \\\n",
       "0   Male            0      108  Extraction, Quickblade Of Trembling Hands   \n",
       "1   Male            1      143                          Frenzied Scimitar   \n",
       "2   Male            2       92                               Final Critic   \n",
       "3   Male            3      100                                Blindscythe   \n",
       "4   Male            4      131                                       Fury   \n",
       "\n",
       "   Price             SN  \n",
       "0   3.53        Lisim78  \n",
       "1   1.56    Lisovynya38  \n",
       "2   4.88     Ithergue48  \n",
       "3   3.27  Chamassasya86  \n",
       "4   1.44      Iskosia90  "
      ]
     },
     "execution_count": 7,
     "metadata": {},
     "output_type": "execute_result"
    }
   ],
   "source": [
    "#new df with purchasing info\n",
    "gender_analysis=purchase_data[[\"Gender\",\"Purchase ID\",\"Item ID\",\"Item Name\",\"Price\",\"SN\"]]\n",
    "gender_analysis.head()"
   ]
  },
  {
   "cell_type": "code",
   "execution_count": 8,
   "metadata": {},
   "outputs": [
    {
     "data": {
      "text/html": [
       "<style  type=\"text/css\" >\n",
       "</style><table id=\"T_1228f648_9ec3_11e9_bb71_34e12dcd57e3\" ><thead>    <tr>        <th class=\"blank level0\" ></th>        <th class=\"col_heading level0 col0\" >Purchase Count</th>        <th class=\"col_heading level0 col1\" >Average Purchase Price</th>        <th class=\"col_heading level0 col2\" >Total Purchase Value</th>        <th class=\"col_heading level0 col3\" >Avg Total Purchase per Person</th>    </tr>    <tr>        <th class=\"index_name level0\" >Gender</th>        <th class=\"blank\" ></th>        <th class=\"blank\" ></th>        <th class=\"blank\" ></th>        <th class=\"blank\" ></th>    </tr></thead><tbody>\n",
       "                <tr>\n",
       "                        <th id=\"T_1228f648_9ec3_11e9_bb71_34e12dcd57e3level0_row0\" class=\"row_heading level0 row0\" >Female</th>\n",
       "                        <td id=\"T_1228f648_9ec3_11e9_bb71_34e12dcd57e3row0_col0\" class=\"data row0 col0\" >113</td>\n",
       "                        <td id=\"T_1228f648_9ec3_11e9_bb71_34e12dcd57e3row0_col1\" class=\"data row0 col1\" >$3.20</td>\n",
       "                        <td id=\"T_1228f648_9ec3_11e9_bb71_34e12dcd57e3row0_col2\" class=\"data row0 col2\" >$361.60</td>\n",
       "                        <td id=\"T_1228f648_9ec3_11e9_bb71_34e12dcd57e3row0_col3\" class=\"data row0 col3\" >$4.46</td>\n",
       "            </tr>\n",
       "            <tr>\n",
       "                        <th id=\"T_1228f648_9ec3_11e9_bb71_34e12dcd57e3level0_row1\" class=\"row_heading level0 row1\" >Male</th>\n",
       "                        <td id=\"T_1228f648_9ec3_11e9_bb71_34e12dcd57e3row1_col0\" class=\"data row1 col0\" >652</td>\n",
       "                        <td id=\"T_1228f648_9ec3_11e9_bb71_34e12dcd57e3row1_col1\" class=\"data row1 col1\" >$3.02</td>\n",
       "                        <td id=\"T_1228f648_9ec3_11e9_bb71_34e12dcd57e3row1_col2\" class=\"data row1 col2\" >$1,969.04</td>\n",
       "                        <td id=\"T_1228f648_9ec3_11e9_bb71_34e12dcd57e3row1_col3\" class=\"data row1 col3\" >$4.07</td>\n",
       "            </tr>\n",
       "            <tr>\n",
       "                        <th id=\"T_1228f648_9ec3_11e9_bb71_34e12dcd57e3level0_row2\" class=\"row_heading level0 row2\" >Other / Non-Disclosed</th>\n",
       "                        <td id=\"T_1228f648_9ec3_11e9_bb71_34e12dcd57e3row2_col0\" class=\"data row2 col0\" >15</td>\n",
       "                        <td id=\"T_1228f648_9ec3_11e9_bb71_34e12dcd57e3row2_col1\" class=\"data row2 col1\" >$3.35</td>\n",
       "                        <td id=\"T_1228f648_9ec3_11e9_bb71_34e12dcd57e3row2_col2\" class=\"data row2 col2\" >$50.25</td>\n",
       "                        <td id=\"T_1228f648_9ec3_11e9_bb71_34e12dcd57e3row2_col3\" class=\"data row2 col3\" >$4.57</td>\n",
       "            </tr>\n",
       "    </tbody></table>"
      ],
      "text/plain": [
       "<pandas.io.formats.style.Styler at 0x1d4977b37b8>"
      ]
     },
     "execution_count": 8,
     "metadata": {},
     "output_type": "execute_result"
    }
   ],
   "source": [
    "#groupby purchase info by gender\n",
    "purchase_analysis=gender_analysis.groupby([\"Gender\"])\n",
    "#purchase info calculations\n",
    "purchase_count=purchase_analysis[\"Purchase ID\"].count()\n",
    "average_purchase=purchase_analysis[\"Price\"].mean().round(2)\n",
    "totalvalue_purchase=purchase_count*average_purchase\n",
    "avgtotal_purchase= (totalvalue_purchase/gender_total).round(2)\n",
    "\n",
    "gender_purchase_analysis= pd.DataFrame({'Purchase Count':purchase_count,\n",
    "                                        'Average Purchase Price':average_purchase,\n",
    "                                       'Total Purchase Value':totalvalue_purchase,\n",
    "                                       'Avg Total Purchase per Person':avgtotal_purchase})\n",
    "gender_purchase_analysis\n",
    "# currency format\n",
    "(gender_purchase_analysis.style.format({\"Average Purchase Price\": \"${0:,.2f}\",\"Total Purchase Value\": \"${0:,.2f}\",\"Avg Total Purchase per Person\":\"${0:,.2f}\"}))\n"
   ]
  },
  {
   "cell_type": "markdown",
   "metadata": {},
   "source": [
    "## Age Demographics"
   ]
  },
  {
   "cell_type": "markdown",
   "metadata": {},
   "source": [
    "* Establish bins for ages\n",
    "\n",
    "\n",
    "* Categorize the existing players using the age bins. Hint: use pd.cut()\n",
    "\n",
    "\n",
    "* Calculate the numbers and percentages by age group\n",
    "\n",
    "\n",
    "* Create a summary data frame to hold the results\n",
    "\n",
    "\n",
    "* Optional: round the percentage column to two decimal points\n",
    "\n",
    "\n",
    "* Display Age Demographics Table\n"
   ]
  },
  {
   "cell_type": "code",
   "execution_count": 9,
   "metadata": {},
   "outputs": [
    {
     "name": "stderr",
     "output_type": "stream",
     "text": [
      "D:\\Anaconda3\\lib\\site-packages\\ipykernel_launcher.py:7: SettingWithCopyWarning: \n",
      "A value is trying to be set on a copy of a slice from a DataFrame.\n",
      "Try using .loc[row_indexer,col_indexer] = value instead\n",
      "\n",
      "See the caveats in the documentation: http://pandas.pydata.org/pandas-docs/stable/indexing.html#indexing-view-versus-copy\n",
      "  import sys\n"
     ]
    },
    {
     "data": {
      "text/html": [
       "<div>\n",
       "<style scoped>\n",
       "    .dataframe tbody tr th:only-of-type {\n",
       "        vertical-align: middle;\n",
       "    }\n",
       "\n",
       "    .dataframe tbody tr th {\n",
       "        vertical-align: top;\n",
       "    }\n",
       "\n",
       "    .dataframe thead th {\n",
       "        text-align: right;\n",
       "    }\n",
       "</style>\n",
       "<table border=\"1\" class=\"dataframe\">\n",
       "  <thead>\n",
       "    <tr style=\"text-align: right;\">\n",
       "      <th></th>\n",
       "      <th>Total Count</th>\n",
       "      <th>Percentage of Players</th>\n",
       "    </tr>\n",
       "    <tr>\n",
       "      <th>Age Group</th>\n",
       "      <th></th>\n",
       "      <th></th>\n",
       "    </tr>\n",
       "  </thead>\n",
       "  <tbody>\n",
       "    <tr>\n",
       "      <th>&lt;10</th>\n",
       "      <td>17</td>\n",
       "      <td>2.95</td>\n",
       "    </tr>\n",
       "    <tr>\n",
       "      <th>10-14</th>\n",
       "      <td>22</td>\n",
       "      <td>3.82</td>\n",
       "    </tr>\n",
       "    <tr>\n",
       "      <th>15-19</th>\n",
       "      <td>107</td>\n",
       "      <td>18.58</td>\n",
       "    </tr>\n",
       "    <tr>\n",
       "      <th>20-24</th>\n",
       "      <td>258</td>\n",
       "      <td>44.79</td>\n",
       "    </tr>\n",
       "    <tr>\n",
       "      <th>25-29</th>\n",
       "      <td>77</td>\n",
       "      <td>13.37</td>\n",
       "    </tr>\n",
       "    <tr>\n",
       "      <th>30-34</th>\n",
       "      <td>52</td>\n",
       "      <td>9.03</td>\n",
       "    </tr>\n",
       "    <tr>\n",
       "      <th>35-39</th>\n",
       "      <td>31</td>\n",
       "      <td>5.38</td>\n",
       "    </tr>\n",
       "    <tr>\n",
       "      <th>40+</th>\n",
       "      <td>12</td>\n",
       "      <td>2.08</td>\n",
       "    </tr>\n",
       "  </tbody>\n",
       "</table>\n",
       "</div>"
      ],
      "text/plain": [
       "           Total Count  Percentage of Players\n",
       "Age Group                                    \n",
       "<10                 17                   2.95\n",
       "10-14               22                   3.82\n",
       "15-19              107                  18.58\n",
       "20-24              258                  44.79\n",
       "25-29               77                  13.37\n",
       "30-34               52                   9.03\n",
       "35-39               31                   5.38\n",
       "40+                 12                   2.08"
      ]
     },
     "execution_count": 9,
     "metadata": {},
     "output_type": "execute_result"
    }
   ],
   "source": [
    "# bins\n",
    "age_bins=[0, 9.99,14.99,19.99,24.99,29.99,34.99,39.99,200]\n",
    "age_group=[\"<10\",\"10-14\",\"15-19\",\"20-24\",\"25-29\",\"30-34\",\"35-39\",\"40+\"]\n",
    "#https://pandas.pydata.org/pandas-docs/stable/reference/api/pandas.cut.html\n",
    "pd.cut(gender_table[\"Age\"],age_bins,labels=age_group)\n",
    "\n",
    "gender_table[\"Age Group\"]= pd.cut(purchase_data[\"Age\"],age_bins,labels=age_group)\n",
    "\n",
    "ages_group=gender_table.groupby(\"Age Group\")\n",
    "\n",
    "age_total=ages_group[\"SN\"].nunique()\n",
    "age_percentage=(age_total/total_players*100).round(2)\n",
    "\n",
    "age_demographics= pd.DataFrame({'Total Count':age_total,'Percentage of Players':age_percentage})\n",
    "age_demographics"
   ]
  },
  {
   "cell_type": "markdown",
   "metadata": {},
   "source": [
    "## Purchasing Analysis (Age)"
   ]
  },
  {
   "cell_type": "markdown",
   "metadata": {},
   "source": [
    "* Bin the purchase_data data frame by age\n",
    "\n",
    "\n",
    "* Run basic calculations to obtain purchase count, avg. purchase price, avg. purchase total per person etc. in the table below\n",
    "\n",
    "\n",
    "* Create a summary data frame to hold the results\n",
    "\n",
    "\n",
    "* Optional: give the displayed data cleaner formatting\n",
    "\n",
    "\n",
    "* Display the summary data frame"
   ]
  },
  {
   "cell_type": "code",
   "execution_count": 10,
   "metadata": {},
   "outputs": [
    {
     "name": "stderr",
     "output_type": "stream",
     "text": [
      "D:\\Anaconda3\\lib\\site-packages\\ipykernel_launcher.py:8: SettingWithCopyWarning: \n",
      "A value is trying to be set on a copy of a slice from a DataFrame.\n",
      "Try using .loc[row_indexer,col_indexer] = value instead\n",
      "\n",
      "See the caveats in the documentation: http://pandas.pydata.org/pandas-docs/stable/indexing.html#indexing-view-versus-copy\n",
      "  \n"
     ]
    },
    {
     "data": {
      "text/html": [
       "<style  type=\"text/css\" >\n",
       "</style><table id=\"T_16d0161c_9ec3_11e9_bfe4_34e12dcd57e3\" ><thead>    <tr>        <th class=\"blank level0\" ></th>        <th class=\"col_heading level0 col0\" >Purchase Count</th>        <th class=\"col_heading level0 col1\" >Average Purchase Price</th>        <th class=\"col_heading level0 col2\" >Total Purchase Value</th>        <th class=\"col_heading level0 col3\" >Avg Total Purchase per Person</th>    </tr>    <tr>        <th class=\"index_name level0\" >Age Group</th>        <th class=\"blank\" ></th>        <th class=\"blank\" ></th>        <th class=\"blank\" ></th>        <th class=\"blank\" ></th>    </tr></thead><tbody>\n",
       "                <tr>\n",
       "                        <th id=\"T_16d0161c_9ec3_11e9_bfe4_34e12dcd57e3level0_row0\" class=\"row_heading level0 row0\" ><10</th>\n",
       "                        <td id=\"T_16d0161c_9ec3_11e9_bfe4_34e12dcd57e3row0_col0\" class=\"data row0 col0\" >23</td>\n",
       "                        <td id=\"T_16d0161c_9ec3_11e9_bfe4_34e12dcd57e3row0_col1\" class=\"data row0 col1\" >$3.35</td>\n",
       "                        <td id=\"T_16d0161c_9ec3_11e9_bfe4_34e12dcd57e3row0_col2\" class=\"data row0 col2\" >$77.05</td>\n",
       "                        <td id=\"T_16d0161c_9ec3_11e9_bfe4_34e12dcd57e3row0_col3\" class=\"data row0 col3\" >$4.53</td>\n",
       "            </tr>\n",
       "            <tr>\n",
       "                        <th id=\"T_16d0161c_9ec3_11e9_bfe4_34e12dcd57e3level0_row1\" class=\"row_heading level0 row1\" >10-14</th>\n",
       "                        <td id=\"T_16d0161c_9ec3_11e9_bfe4_34e12dcd57e3row1_col0\" class=\"data row1 col0\" >28</td>\n",
       "                        <td id=\"T_16d0161c_9ec3_11e9_bfe4_34e12dcd57e3row1_col1\" class=\"data row1 col1\" >$2.96</td>\n",
       "                        <td id=\"T_16d0161c_9ec3_11e9_bfe4_34e12dcd57e3row1_col2\" class=\"data row1 col2\" >$82.88</td>\n",
       "                        <td id=\"T_16d0161c_9ec3_11e9_bfe4_34e12dcd57e3row1_col3\" class=\"data row1 col3\" >$3.77</td>\n",
       "            </tr>\n",
       "            <tr>\n",
       "                        <th id=\"T_16d0161c_9ec3_11e9_bfe4_34e12dcd57e3level0_row2\" class=\"row_heading level0 row2\" >15-19</th>\n",
       "                        <td id=\"T_16d0161c_9ec3_11e9_bfe4_34e12dcd57e3row2_col0\" class=\"data row2 col0\" >136</td>\n",
       "                        <td id=\"T_16d0161c_9ec3_11e9_bfe4_34e12dcd57e3row2_col1\" class=\"data row2 col1\" >$3.04</td>\n",
       "                        <td id=\"T_16d0161c_9ec3_11e9_bfe4_34e12dcd57e3row2_col2\" class=\"data row2 col2\" >$413.44</td>\n",
       "                        <td id=\"T_16d0161c_9ec3_11e9_bfe4_34e12dcd57e3row2_col3\" class=\"data row2 col3\" >$3.86</td>\n",
       "            </tr>\n",
       "            <tr>\n",
       "                        <th id=\"T_16d0161c_9ec3_11e9_bfe4_34e12dcd57e3level0_row3\" class=\"row_heading level0 row3\" >20-24</th>\n",
       "                        <td id=\"T_16d0161c_9ec3_11e9_bfe4_34e12dcd57e3row3_col0\" class=\"data row3 col0\" >365</td>\n",
       "                        <td id=\"T_16d0161c_9ec3_11e9_bfe4_34e12dcd57e3row3_col1\" class=\"data row3 col1\" >$3.05</td>\n",
       "                        <td id=\"T_16d0161c_9ec3_11e9_bfe4_34e12dcd57e3row3_col2\" class=\"data row3 col2\" >$1,113.25</td>\n",
       "                        <td id=\"T_16d0161c_9ec3_11e9_bfe4_34e12dcd57e3row3_col3\" class=\"data row3 col3\" >$4.31</td>\n",
       "            </tr>\n",
       "            <tr>\n",
       "                        <th id=\"T_16d0161c_9ec3_11e9_bfe4_34e12dcd57e3level0_row4\" class=\"row_heading level0 row4\" >25-29</th>\n",
       "                        <td id=\"T_16d0161c_9ec3_11e9_bfe4_34e12dcd57e3row4_col0\" class=\"data row4 col0\" >101</td>\n",
       "                        <td id=\"T_16d0161c_9ec3_11e9_bfe4_34e12dcd57e3row4_col1\" class=\"data row4 col1\" >$2.90</td>\n",
       "                        <td id=\"T_16d0161c_9ec3_11e9_bfe4_34e12dcd57e3row4_col2\" class=\"data row4 col2\" >$292.90</td>\n",
       "                        <td id=\"T_16d0161c_9ec3_11e9_bfe4_34e12dcd57e3row4_col3\" class=\"data row4 col3\" >$3.80</td>\n",
       "            </tr>\n",
       "            <tr>\n",
       "                        <th id=\"T_16d0161c_9ec3_11e9_bfe4_34e12dcd57e3level0_row5\" class=\"row_heading level0 row5\" >30-34</th>\n",
       "                        <td id=\"T_16d0161c_9ec3_11e9_bfe4_34e12dcd57e3row5_col0\" class=\"data row5 col0\" >73</td>\n",
       "                        <td id=\"T_16d0161c_9ec3_11e9_bfe4_34e12dcd57e3row5_col1\" class=\"data row5 col1\" >$2.93</td>\n",
       "                        <td id=\"T_16d0161c_9ec3_11e9_bfe4_34e12dcd57e3row5_col2\" class=\"data row5 col2\" >$213.89</td>\n",
       "                        <td id=\"T_16d0161c_9ec3_11e9_bfe4_34e12dcd57e3row5_col3\" class=\"data row5 col3\" >$4.11</td>\n",
       "            </tr>\n",
       "            <tr>\n",
       "                        <th id=\"T_16d0161c_9ec3_11e9_bfe4_34e12dcd57e3level0_row6\" class=\"row_heading level0 row6\" >35-39</th>\n",
       "                        <td id=\"T_16d0161c_9ec3_11e9_bfe4_34e12dcd57e3row6_col0\" class=\"data row6 col0\" >41</td>\n",
       "                        <td id=\"T_16d0161c_9ec3_11e9_bfe4_34e12dcd57e3row6_col1\" class=\"data row6 col1\" >$3.60</td>\n",
       "                        <td id=\"T_16d0161c_9ec3_11e9_bfe4_34e12dcd57e3row6_col2\" class=\"data row6 col2\" >$147.60</td>\n",
       "                        <td id=\"T_16d0161c_9ec3_11e9_bfe4_34e12dcd57e3row6_col3\" class=\"data row6 col3\" >$4.76</td>\n",
       "            </tr>\n",
       "            <tr>\n",
       "                        <th id=\"T_16d0161c_9ec3_11e9_bfe4_34e12dcd57e3level0_row7\" class=\"row_heading level0 row7\" >40+</th>\n",
       "                        <td id=\"T_16d0161c_9ec3_11e9_bfe4_34e12dcd57e3row7_col0\" class=\"data row7 col0\" >13</td>\n",
       "                        <td id=\"T_16d0161c_9ec3_11e9_bfe4_34e12dcd57e3row7_col1\" class=\"data row7 col1\" >$2.94</td>\n",
       "                        <td id=\"T_16d0161c_9ec3_11e9_bfe4_34e12dcd57e3row7_col2\" class=\"data row7 col2\" >$38.22</td>\n",
       "                        <td id=\"T_16d0161c_9ec3_11e9_bfe4_34e12dcd57e3row7_col3\" class=\"data row7 col3\" >$3.18</td>\n",
       "            </tr>\n",
       "    </tbody></table>"
      ],
      "text/plain": [
       "<pandas.io.formats.style.Styler at 0x1d4977da7f0>"
      ]
     },
     "execution_count": 10,
     "metadata": {},
     "output_type": "execute_result"
    }
   ],
   "source": [
    "ages_analysis_df=purchase_data[[\"SN\",\"Age\",\"Purchase ID\",\"Price\"]]\n",
    "# bins\n",
    "age_bins=[0, 9.99,14.99,19.99,24.99,29.99,34.99,39.99,200]\n",
    "age_group=[\"<10\",\"10-14\",\"15-19\",\"20-24\",\"25-29\",\"30-34\",\"35-39\",\"40+\"]\n",
    "\n",
    "pd.cut(ages_analysis_df[\"Age\"],age_bins,labels=age_group)\n",
    "\n",
    "ages_analysis_df[\"Age Group\"]= pd.cut(ages_analysis_df[\"Age\"],age_bins,labels=age_group)\n",
    "\n",
    "ages_group=ages_analysis_df.groupby(\"Age Group\")\n",
    "\n",
    "age_purchases_count=ages_group[\"Purchase ID\"].count()\n",
    "age_avg_purchases= (ages_group[\"Price\"].mean().round(2))\n",
    "age_tot_value=(age_purchases_count*age_avg_purchases)\n",
    "age_purchase_perperson=(age_tot_value/age_total).round(2)\n",
    "\n",
    "age_purchase_analysis= pd.DataFrame({'Purchase Count':age_purchases_count,\n",
    "                                        'Average Purchase Price':age_avg_purchases,\n",
    "                                       'Total Purchase Value':age_tot_value,\n",
    "                                       'Avg Total Purchase per Person':age_purchase_perperson})\n",
    "age_purchase_analysis\n",
    "(age_purchase_analysis.style.format({\"Average Purchase Price\": \"${0:,.2f}\",\"Total Purchase Value\": \"${0:,.2f}\",\"Avg Total Purchase per Person\":\"${0:,.2f}\"}))"
   ]
  },
  {
   "cell_type": "markdown",
   "metadata": {},
   "source": [
    "## Top Spenders"
   ]
  },
  {
   "cell_type": "markdown",
   "metadata": {},
   "source": [
    "* Run basic calculations to obtain the results in the table below\n",
    "\n",
    "\n",
    "* Create a summary data frame to hold the results\n",
    "\n",
    "\n",
    "* Sort the total purchase value column in descending order\n",
    "\n",
    "\n",
    "* Optional: give the displayed data cleaner formatting\n",
    "\n",
    "\n",
    "* Display a preview of the summary data frame\n",
    "\n"
   ]
  },
  {
   "cell_type": "code",
   "execution_count": 11,
   "metadata": {},
   "outputs": [
    {
     "data": {
      "text/html": [
       "<style  type=\"text/css\" >\n",
       "</style><table id=\"T_191d2c78_9ec3_11e9_84e6_34e12dcd57e3\" ><thead>    <tr>        <th class=\"blank level0\" ></th>        <th class=\"col_heading level0 col0\" >Purchase Count</th>        <th class=\"col_heading level0 col1\" >Average Purchase Price</th>        <th class=\"col_heading level0 col2\" >Total Purchase Value</th>    </tr>    <tr>        <th class=\"index_name level0\" >SN</th>        <th class=\"blank\" ></th>        <th class=\"blank\" ></th>        <th class=\"blank\" ></th>    </tr></thead><tbody>\n",
       "                <tr>\n",
       "                        <th id=\"T_191d2c78_9ec3_11e9_84e6_34e12dcd57e3level0_row0\" class=\"row_heading level0 row0\" >Lisosia93</th>\n",
       "                        <td id=\"T_191d2c78_9ec3_11e9_84e6_34e12dcd57e3row0_col0\" class=\"data row0 col0\" >5</td>\n",
       "                        <td id=\"T_191d2c78_9ec3_11e9_84e6_34e12dcd57e3row0_col1\" class=\"data row0 col1\" >$3.79</td>\n",
       "                        <td id=\"T_191d2c78_9ec3_11e9_84e6_34e12dcd57e3row0_col2\" class=\"data row0 col2\" >$18.95</td>\n",
       "            </tr>\n",
       "            <tr>\n",
       "                        <th id=\"T_191d2c78_9ec3_11e9_84e6_34e12dcd57e3level0_row1\" class=\"row_heading level0 row1\" >Idastidru52</th>\n",
       "                        <td id=\"T_191d2c78_9ec3_11e9_84e6_34e12dcd57e3row1_col0\" class=\"data row1 col0\" >4</td>\n",
       "                        <td id=\"T_191d2c78_9ec3_11e9_84e6_34e12dcd57e3row1_col1\" class=\"data row1 col1\" >$3.86</td>\n",
       "                        <td id=\"T_191d2c78_9ec3_11e9_84e6_34e12dcd57e3row1_col2\" class=\"data row1 col2\" >$15.44</td>\n",
       "            </tr>\n",
       "            <tr>\n",
       "                        <th id=\"T_191d2c78_9ec3_11e9_84e6_34e12dcd57e3level0_row2\" class=\"row_heading level0 row2\" >Chamjask73</th>\n",
       "                        <td id=\"T_191d2c78_9ec3_11e9_84e6_34e12dcd57e3row2_col0\" class=\"data row2 col0\" >3</td>\n",
       "                        <td id=\"T_191d2c78_9ec3_11e9_84e6_34e12dcd57e3row2_col1\" class=\"data row2 col1\" >$4.61</td>\n",
       "                        <td id=\"T_191d2c78_9ec3_11e9_84e6_34e12dcd57e3row2_col2\" class=\"data row2 col2\" >$13.83</td>\n",
       "            </tr>\n",
       "            <tr>\n",
       "                        <th id=\"T_191d2c78_9ec3_11e9_84e6_34e12dcd57e3level0_row3\" class=\"row_heading level0 row3\" >Iral74</th>\n",
       "                        <td id=\"T_191d2c78_9ec3_11e9_84e6_34e12dcd57e3row3_col0\" class=\"data row3 col0\" >4</td>\n",
       "                        <td id=\"T_191d2c78_9ec3_11e9_84e6_34e12dcd57e3row3_col1\" class=\"data row3 col1\" >$3.40</td>\n",
       "                        <td id=\"T_191d2c78_9ec3_11e9_84e6_34e12dcd57e3row3_col2\" class=\"data row3 col2\" >$13.60</td>\n",
       "            </tr>\n",
       "            <tr>\n",
       "                        <th id=\"T_191d2c78_9ec3_11e9_84e6_34e12dcd57e3level0_row4\" class=\"row_heading level0 row4\" >Iskadarya95</th>\n",
       "                        <td id=\"T_191d2c78_9ec3_11e9_84e6_34e12dcd57e3row4_col0\" class=\"data row4 col0\" >3</td>\n",
       "                        <td id=\"T_191d2c78_9ec3_11e9_84e6_34e12dcd57e3row4_col1\" class=\"data row4 col1\" >$4.37</td>\n",
       "                        <td id=\"T_191d2c78_9ec3_11e9_84e6_34e12dcd57e3row4_col2\" class=\"data row4 col2\" >$13.11</td>\n",
       "            </tr>\n",
       "    </tbody></table>"
      ],
      "text/plain": [
       "<pandas.io.formats.style.Styler at 0x1d4977c7c50>"
      ]
     },
     "execution_count": 11,
     "metadata": {},
     "output_type": "execute_result"
    }
   ],
   "source": [
    "#groupby top spenders by SN\n",
    "top_spenders=ages_analysis_df.groupby(\"SN\")\n",
    "#top spenders calculations\n",
    "top_spender_count=top_spenders[\"Purchase ID\"].count()\n",
    "top_spender_purchases= (top_spenders[\"Price\"].mean().round(2))\n",
    "top_spender_tot_value=(top_spender_count*top_spender_purchases)\n",
    "\n",
    "top_spender_analysis= pd.DataFrame({'Purchase Count':top_spender_count,\n",
    "                                        'Average Purchase Price':top_spender_purchases,\n",
    "                                       'Total Purchase Value':top_spender_tot_value})\n",
    "top_spender_analysis=top_spender_analysis.sort_values(by = \"Total Purchase Value\", ascending=False)\n",
    "#currency format\n",
    "(top_spender_analysis.head().style\n",
    "  .format({\"Average Purchase Price\":\"${0:,.2f}\",\n",
    "          \"Total Purchase Value\":\"${0:,.2f}\"}))\n",
    "#(top_spender_analysis.style.format({\"Average Purchase Price\": \"${0:,.2f}\",\"Total Purchase Value\": \"${0:,.2f}\"}))\n"
   ]
  },
  {
   "cell_type": "markdown",
   "metadata": {},
   "source": [
    "## Most Popular Items"
   ]
  },
  {
   "cell_type": "markdown",
   "metadata": {},
   "source": [
    "* Retrieve the Item ID, Item Name, and Item Price columns\n",
    "\n",
    "\n",
    "* Group by Item ID and Item Name. Perform calculations to obtain purchase count, item price, and total purchase value\n",
    "\n",
    "\n",
    "* Create a summary data frame to hold the results\n",
    "\n",
    "\n",
    "* Sort the purchase count column in descending order\n",
    "\n",
    "\n",
    "* Optional: give the displayed data cleaner formatting\n",
    "\n",
    "\n",
    "* Display a preview of the summary data frame\n",
    "\n"
   ]
  },
  {
   "cell_type": "code",
   "execution_count": 12,
   "metadata": {},
   "outputs": [
    {
     "data": {
      "text/html": [
       "<style  type=\"text/css\" >\n",
       "</style><table id=\"T_1b91604a_9ec3_11e9_8d1e_34e12dcd57e3\" ><thead>    <tr>        <th class=\"blank\" ></th>        <th class=\"blank level0\" ></th>        <th class=\"col_heading level0 col0\" >Purchase Count</th>        <th class=\"col_heading level0 col1\" >Item Price</th>        <th class=\"col_heading level0 col2\" >Total Purchase Value</th>    </tr>    <tr>        <th class=\"index_name level0\" >Item ID</th>        <th class=\"index_name level1\" >Item Name</th>        <th class=\"blank\" ></th>        <th class=\"blank\" ></th>        <th class=\"blank\" ></th>    </tr></thead><tbody>\n",
       "                <tr>\n",
       "                        <th id=\"T_1b91604a_9ec3_11e9_8d1e_34e12dcd57e3level0_row0\" class=\"row_heading level0 row0\" >178</th>\n",
       "                        <th id=\"T_1b91604a_9ec3_11e9_8d1e_34e12dcd57e3level1_row0\" class=\"row_heading level1 row0\" >Oathbreaker, Last Hope of the Breaking Storm</th>\n",
       "                        <td id=\"T_1b91604a_9ec3_11e9_8d1e_34e12dcd57e3row0_col0\" class=\"data row0 col0\" >12</td>\n",
       "                        <td id=\"T_1b91604a_9ec3_11e9_8d1e_34e12dcd57e3row0_col1\" class=\"data row0 col1\" >$4.23</td>\n",
       "                        <td id=\"T_1b91604a_9ec3_11e9_8d1e_34e12dcd57e3row0_col2\" class=\"data row0 col2\" >$50.76</td>\n",
       "            </tr>\n",
       "            <tr>\n",
       "                        <th id=\"T_1b91604a_9ec3_11e9_8d1e_34e12dcd57e3level0_row1\" class=\"row_heading level0 row1\" >145</th>\n",
       "                        <th id=\"T_1b91604a_9ec3_11e9_8d1e_34e12dcd57e3level1_row1\" class=\"row_heading level1 row1\" >Fiery Glass Crusader</th>\n",
       "                        <td id=\"T_1b91604a_9ec3_11e9_8d1e_34e12dcd57e3row1_col0\" class=\"data row1 col0\" >9</td>\n",
       "                        <td id=\"T_1b91604a_9ec3_11e9_8d1e_34e12dcd57e3row1_col1\" class=\"data row1 col1\" >$4.58</td>\n",
       "                        <td id=\"T_1b91604a_9ec3_11e9_8d1e_34e12dcd57e3row1_col2\" class=\"data row1 col2\" >$41.22</td>\n",
       "            </tr>\n",
       "            <tr>\n",
       "                        <th id=\"T_1b91604a_9ec3_11e9_8d1e_34e12dcd57e3level0_row2\" class=\"row_heading level0 row2\" >108</th>\n",
       "                        <th id=\"T_1b91604a_9ec3_11e9_8d1e_34e12dcd57e3level1_row2\" class=\"row_heading level1 row2\" >Extraction, Quickblade Of Trembling Hands</th>\n",
       "                        <td id=\"T_1b91604a_9ec3_11e9_8d1e_34e12dcd57e3row2_col0\" class=\"data row2 col0\" >9</td>\n",
       "                        <td id=\"T_1b91604a_9ec3_11e9_8d1e_34e12dcd57e3row2_col1\" class=\"data row2 col1\" >$3.53</td>\n",
       "                        <td id=\"T_1b91604a_9ec3_11e9_8d1e_34e12dcd57e3row2_col2\" class=\"data row2 col2\" >$31.77</td>\n",
       "            </tr>\n",
       "            <tr>\n",
       "                        <th id=\"T_1b91604a_9ec3_11e9_8d1e_34e12dcd57e3level0_row3\" class=\"row_heading level0 row3\" >82</th>\n",
       "                        <th id=\"T_1b91604a_9ec3_11e9_8d1e_34e12dcd57e3level1_row3\" class=\"row_heading level1 row3\" >Nirvana</th>\n",
       "                        <td id=\"T_1b91604a_9ec3_11e9_8d1e_34e12dcd57e3row3_col0\" class=\"data row3 col0\" >9</td>\n",
       "                        <td id=\"T_1b91604a_9ec3_11e9_8d1e_34e12dcd57e3row3_col1\" class=\"data row3 col1\" >$4.90</td>\n",
       "                        <td id=\"T_1b91604a_9ec3_11e9_8d1e_34e12dcd57e3row3_col2\" class=\"data row3 col2\" >$44.10</td>\n",
       "            </tr>\n",
       "            <tr>\n",
       "                        <th id=\"T_1b91604a_9ec3_11e9_8d1e_34e12dcd57e3level0_row4\" class=\"row_heading level0 row4\" >19</th>\n",
       "                        <th id=\"T_1b91604a_9ec3_11e9_8d1e_34e12dcd57e3level1_row4\" class=\"row_heading level1 row4\" >Pursuit, Cudgel of Necromancy</th>\n",
       "                        <td id=\"T_1b91604a_9ec3_11e9_8d1e_34e12dcd57e3row4_col0\" class=\"data row4 col0\" >8</td>\n",
       "                        <td id=\"T_1b91604a_9ec3_11e9_8d1e_34e12dcd57e3row4_col1\" class=\"data row4 col1\" >$1.02</td>\n",
       "                        <td id=\"T_1b91604a_9ec3_11e9_8d1e_34e12dcd57e3row4_col2\" class=\"data row4 col2\" >$8.16</td>\n",
       "            </tr>\n",
       "    </tbody></table>"
      ],
      "text/plain": [
       "<pandas.io.formats.style.Styler at 0x1d4977d62e8>"
      ]
     },
     "execution_count": 12,
     "metadata": {},
     "output_type": "execute_result"
    }
   ],
   "source": [
    "#new df for popular items\n",
    "popular_items_df = purchase_data[[\"Item ID\", \"Item Name\", \"Purchase ID\", \"Price\"]]\n",
    "\n",
    "popular_items = popular_items_df.groupby([\"Item ID\", \"Item Name\"])\n",
    "\n",
    "popular_items[\"Purchase ID\"].count()\n",
    "\n",
    "popular_item_count=popular_items[\"Purchase ID\"].count()\n",
    "\n",
    "item_price=popular_items[\"Price\"].mean()\n",
    "\n",
    "item_value=popular_item_count*item_price\n",
    "\n",
    "pop_items=pd.DataFrame({\"Purchase Count\": popular_item_count,\n",
    "                        \"Item Price\": item_price,\n",
    "                        \"Total Purchase Value\": item_value})\n",
    "\n",
    "pop_items=pop_items.sort_values(by = \"Purchase Count\", ascending=False)\n",
    "#currency format\n",
    "(pop_items.head().style\n",
    "  .format({\"Item Price\":\"${0:,.2f}\",\n",
    "          \"Total Purchase Value\":\"${0:,.2f}\"}))"
   ]
  },
  {
   "cell_type": "markdown",
   "metadata": {},
   "source": [
    "## Most Profitable Items"
   ]
  },
  {
   "cell_type": "markdown",
   "metadata": {},
   "source": [
    "* Sort the above table by total purchase value in descending order\n",
    "\n",
    "\n",
    "* Optional: give the displayed data cleaner formatting\n",
    "\n",
    "\n",
    "* Display a preview of the data frame\n",
    "\n"
   ]
  },
  {
   "cell_type": "code",
   "execution_count": 13,
   "metadata": {
    "scrolled": true
   },
   "outputs": [
    {
     "data": {
      "text/html": [
       "<style  type=\"text/css\" >\n",
       "</style><table id=\"T_1daabb18_9ec3_11e9_830a_34e12dcd57e3\" ><thead>    <tr>        <th class=\"blank\" ></th>        <th class=\"blank level0\" ></th>        <th class=\"col_heading level0 col0\" >Purchase Count</th>        <th class=\"col_heading level0 col1\" >Item Price</th>        <th class=\"col_heading level0 col2\" >Total Purchase Value</th>    </tr>    <tr>        <th class=\"index_name level0\" >Item ID</th>        <th class=\"index_name level1\" >Item Name</th>        <th class=\"blank\" ></th>        <th class=\"blank\" ></th>        <th class=\"blank\" ></th>    </tr></thead><tbody>\n",
       "                <tr>\n",
       "                        <th id=\"T_1daabb18_9ec3_11e9_830a_34e12dcd57e3level0_row0\" class=\"row_heading level0 row0\" >178</th>\n",
       "                        <th id=\"T_1daabb18_9ec3_11e9_830a_34e12dcd57e3level1_row0\" class=\"row_heading level1 row0\" >Oathbreaker, Last Hope of the Breaking Storm</th>\n",
       "                        <td id=\"T_1daabb18_9ec3_11e9_830a_34e12dcd57e3row0_col0\" class=\"data row0 col0\" >12</td>\n",
       "                        <td id=\"T_1daabb18_9ec3_11e9_830a_34e12dcd57e3row0_col1\" class=\"data row0 col1\" >4.23</td>\n",
       "                        <td id=\"T_1daabb18_9ec3_11e9_830a_34e12dcd57e3row0_col2\" class=\"data row0 col2\" >$50.76</td>\n",
       "            </tr>\n",
       "            <tr>\n",
       "                        <th id=\"T_1daabb18_9ec3_11e9_830a_34e12dcd57e3level0_row1\" class=\"row_heading level0 row1\" >82</th>\n",
       "                        <th id=\"T_1daabb18_9ec3_11e9_830a_34e12dcd57e3level1_row1\" class=\"row_heading level1 row1\" >Nirvana</th>\n",
       "                        <td id=\"T_1daabb18_9ec3_11e9_830a_34e12dcd57e3row1_col0\" class=\"data row1 col0\" >9</td>\n",
       "                        <td id=\"T_1daabb18_9ec3_11e9_830a_34e12dcd57e3row1_col1\" class=\"data row1 col1\" >4.9</td>\n",
       "                        <td id=\"T_1daabb18_9ec3_11e9_830a_34e12dcd57e3row1_col2\" class=\"data row1 col2\" >$44.10</td>\n",
       "            </tr>\n",
       "            <tr>\n",
       "                        <th id=\"T_1daabb18_9ec3_11e9_830a_34e12dcd57e3level0_row2\" class=\"row_heading level0 row2\" >145</th>\n",
       "                        <th id=\"T_1daabb18_9ec3_11e9_830a_34e12dcd57e3level1_row2\" class=\"row_heading level1 row2\" >Fiery Glass Crusader</th>\n",
       "                        <td id=\"T_1daabb18_9ec3_11e9_830a_34e12dcd57e3row2_col0\" class=\"data row2 col0\" >9</td>\n",
       "                        <td id=\"T_1daabb18_9ec3_11e9_830a_34e12dcd57e3row2_col1\" class=\"data row2 col1\" >4.58</td>\n",
       "                        <td id=\"T_1daabb18_9ec3_11e9_830a_34e12dcd57e3row2_col2\" class=\"data row2 col2\" >$41.22</td>\n",
       "            </tr>\n",
       "            <tr>\n",
       "                        <th id=\"T_1daabb18_9ec3_11e9_830a_34e12dcd57e3level0_row3\" class=\"row_heading level0 row3\" >92</th>\n",
       "                        <th id=\"T_1daabb18_9ec3_11e9_830a_34e12dcd57e3level1_row3\" class=\"row_heading level1 row3\" >Final Critic</th>\n",
       "                        <td id=\"T_1daabb18_9ec3_11e9_830a_34e12dcd57e3row3_col0\" class=\"data row3 col0\" >8</td>\n",
       "                        <td id=\"T_1daabb18_9ec3_11e9_830a_34e12dcd57e3row3_col1\" class=\"data row3 col1\" >4.88</td>\n",
       "                        <td id=\"T_1daabb18_9ec3_11e9_830a_34e12dcd57e3row3_col2\" class=\"data row3 col2\" >$39.04</td>\n",
       "            </tr>\n",
       "            <tr>\n",
       "                        <th id=\"T_1daabb18_9ec3_11e9_830a_34e12dcd57e3level0_row4\" class=\"row_heading level0 row4\" >103</th>\n",
       "                        <th id=\"T_1daabb18_9ec3_11e9_830a_34e12dcd57e3level1_row4\" class=\"row_heading level1 row4\" >Singed Scalpel</th>\n",
       "                        <td id=\"T_1daabb18_9ec3_11e9_830a_34e12dcd57e3row4_col0\" class=\"data row4 col0\" >8</td>\n",
       "                        <td id=\"T_1daabb18_9ec3_11e9_830a_34e12dcd57e3row4_col1\" class=\"data row4 col1\" >4.35</td>\n",
       "                        <td id=\"T_1daabb18_9ec3_11e9_830a_34e12dcd57e3row4_col2\" class=\"data row4 col2\" >$34.80</td>\n",
       "            </tr>\n",
       "    </tbody></table>"
      ],
      "text/plain": [
       "<pandas.io.formats.style.Styler at 0x1d4977c7438>"
      ]
     },
     "execution_count": 13,
     "metadata": {},
     "output_type": "execute_result"
    }
   ],
   "source": [
    "pop_items=pop_items.sort_values(by = \"Total Purchase Value\", ascending=False)\n",
    "(pop_items.head().style\n",
    "  .format({\"Average Purchase Price\":\"${0:,.2f}\",\n",
    "          \"Total Purchase Value\":\"${0:,.2f}\"}))"
   ]
  }
 ],
 "metadata": {
  "anaconda-cloud": {},
  "kernel_info": {
   "name": "python3"
  },
  "kernelspec": {
   "display_name": "Python 3",
   "language": "python",
   "name": "python3"
  },
  "language_info": {
   "codemirror_mode": {
    "name": "ipython",
    "version": 3
   },
   "file_extension": ".py",
   "mimetype": "text/x-python",
   "name": "python",
   "nbconvert_exporter": "python",
   "pygments_lexer": "ipython3",
   "version": "3.7.3"
  },
  "nteract": {
   "version": "0.2.0"
  }
 },
 "nbformat": 4,
 "nbformat_minor": 2
}
